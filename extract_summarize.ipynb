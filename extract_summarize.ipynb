{
 "cells": [
  {
   "cell_type": "code",
   "execution_count": 1,
   "metadata": {
    "collapsed": true
   },
   "outputs": [],
   "source": [
    "import re\n",
    "import os\n",
    "import xmltodict\n",
    "import csv"
   ]
  },
  {
   "cell_type": "code",
   "execution_count": 3,
   "metadata": {
    "collapsed": true
   },
   "outputs": [],
   "source": [
    "path = os.getcwd()+\"/final_files\""
   ]
  },
  {
   "cell_type": "code",
   "execution_count": 4,
   "metadata": {},
   "outputs": [
    {
     "data": {
      "text/plain": [
       "'/Users/mrigank/Desktop/subjects/Intro_to_NLP/project/final_files'"
      ]
     },
     "execution_count": 4,
     "metadata": {},
     "output_type": "execute_result"
    }
   ],
   "source": [
    "path"
   ]
  },
  {
   "cell_type": "code",
   "execution_count": 5,
   "metadata": {
    "collapsed": true
   },
   "outputs": [],
   "source": [
    "files = os.listdir(path)"
   ]
  },
  {
   "cell_type": "code",
   "execution_count": 38,
   "metadata": {
    "collapsed": true
   },
   "outputs": [],
   "source": [
    "f=open(path+'/'+files[0], 'r')\n",
    "doc = f.read()"
   ]
  },
  {
   "cell_type": "code",
   "execution_count": 61,
   "metadata": {
    "collapsed": true
   },
   "outputs": [],
   "source": [
    "#doc"
   ]
  },
  {
   "cell_type": "code",
   "execution_count": 11,
   "metadata": {
    "collapsed": true
   },
   "outputs": [],
   "source": [
    "def strip(doc):\n",
    "    p = re.compile(r'<.*?>')\n",
    "    return p.sub('', doc)\n",
    "\n",
    "def strip_back(doc):\n",
    "    p = re.compile(r'(\\')')\n",
    "    return p.sub('', doc)\n",
    "\n",
    "def strip_names(doc):\n",
    "    p = re.compile(r'&.*?;')\n",
    "    return p.sub('', doc)"
   ]
  },
  {
   "cell_type": "code",
   "execution_count": 57,
   "metadata": {
    "collapsed": true
   },
   "outputs": [],
   "source": [
    "doc = re.findall(r'<p>(.*?)</p>', doc)\n",
    "doc = strip(str(doc))\n",
    "doc = strip_back(doc)\n",
    "doc = strip_names(doc)"
   ]
  },
  {
   "cell_type": "code",
   "execution_count": 73,
   "metadata": {
    "collapsed": true
   },
   "outputs": [],
   "source": [
    "#doc"
   ]
  },
  {
   "cell_type": "code",
   "execution_count": 12,
   "metadata": {
    "collapsed": true
   },
   "outputs": [],
   "source": [
    "import logging\n",
    "from gensim.summarization import summarize\n",
    "from gensim.summarization import keywords"
   ]
  },
  {
   "cell_type": "code",
   "execution_count": 13,
   "metadata": {
    "collapsed": true
   },
   "outputs": [],
   "source": [
    "logging.basicConfig(format='%(asctime)s : %(levelname)s : %(message)s', level=logging.INFO)"
   ]
  },
  {
   "cell_type": "code",
   "execution_count": 72,
   "metadata": {
    "collapsed": true
   },
   "outputs": [],
   "source": [
    "#print(keywords(doc))"
   ]
  },
  {
   "cell_type": "code",
   "execution_count": 71,
   "metadata": {},
   "outputs": [
    {
     "name": "stderr",
     "output_type": "stream",
     "text": [
      "2017-12-02 12:42:18,790 : INFO : adding document #0 to Dictionary(0 unique tokens: [])\n",
      "2017-12-02 12:42:18,795 : INFO : built Dictionary(608 unique tokens: ['open', 'access', 'articl', 'distribut', 'term']...) from 86 documents (total 1748 corpus positions)\n"
     ]
    },
    {
     "name": "stdout",
     "output_type": "stream",
     "text": [
      "[This is an Open Access article distributed under the terms of the Creative Commons Attribution License (), which permits unrestricted use, distribution, and reproduction in any medium, provided the original work is properly cited., To describe the profile of community health workers  health promoters, traditional birth attendants and traditional healers  in rural Quechua communities from Ayacucho, Peru., Basic quantitative and qualitative information was gathered as part of a community health project implemented between 1997 and 2002 in 40 Andean communities with information from questionnaires, personal interviews and group discussions., The majority of current community health workers are men with limited education who are primarily Quechua speakers undertaking their work on a voluntary basis.\n",
      "At the community level the health promoters are the most visible community health workers., It is very important to consider and to be aware of the profile of community health workers in order to provide appropriate alternatives when working with these groups as well as with the indigenous population, particularly in terms of culture, language and gender issues., Despite the abundance of research and published scientific literature concerning the development of effective health care for rural communities in developing countries, especially since the mid-1970s and the Alma Ata Conference [1,2], the literature on community health workers in Peru is limited [3]., One important approach in various countries and continents [4-6], among the different strategies attempted over the last 30 years, has been to use local human resources in the rural primary health care setting.\n",
      "Of all community health workers, the impact of traditional birth attendants\\ training is the only one that has been systematically studied and addressed [11-13]., In Peru, aside from few reports [3,14], there is no up-to-date information on the involvement and participation of community health workers in primary health care policies, projects and interventions or profiles of these actors.\n",
      "The main strategies of the project were:, \" involvement of community members in ascertaining relevant health issues so as to inform and guide the projects strategies;\",  information, education and communication activities on relevant health issues such as maternal and child health, traditional medicine, food and nutrition, basic sanitation and hygiene and mental health;,  training and integration between different community health workers, including health promoters, traditional birth attendants and traditional healers;,  construction of community health posts;,  strengthening of the referral system from communities to the Ministry of Health facilities and integrating the community health workers in the process., Some 54.8% of the Peruvian population is poor, and 24.4% of Peru\\s population lives in extreme poverty.\n",
      "The proportion of male health promoters was 84%; traditional healers, 75%; and traditional birth attendants, 62%., In general, a low educational level  ranging from illiterates to incomplete high school education  was observed among the three groups of community health workers.\n",
      "Traditional birth attendants\\ services were required because of the cultural appropriateness of their activities, which included a vertical position of the women during labour and delivery, participation of the family and observance of certain cultural norms linked to the delivery process [19]., \"Traditional healers played a different role, mostly related to the understanding of health beliefs and ill-health processes in these communities.\n",
      "The husbands tended to justify this viewpoint by pointing out that regular trips to receive training and participate in related activities meant their wives had to be away from their homes and leave the children without adequate support., The differences observed between drop-out rates among community health workers needs to be explained in this particular context, paying particular attention to health promoters.\n",
      "A relationship based on mutual respect, aided by communicating in the local Quechua language, is a vital goal for the Ministry of Health if it is to gain the confidence of the community., Working in these areas remains a considerable challenge, especially when taking into account the poverty, limited access to health care and geographical isolation of these indigenous people [27,28].\n"
     ]
    }
   ],
   "source": [
    "print(summarize(doc, ratio=0.1))"
   ]
  },
  {
   "cell_type": "code",
   "execution_count": 52,
   "metadata": {
    "collapsed": true
   },
   "outputs": [],
   "source": [
    "f1 = open(path+'/'+files[0], 'r')\n",
    "doc1 = f1.read()"
   ]
  },
  {
   "cell_type": "code",
   "execution_count": 53,
   "metadata": {
    "collapsed": true
   },
   "outputs": [],
   "source": [
    "f2 = open(path+'/'+files[1], 'r')\n",
    "doc2 = f2.read()"
   ]
  },
  {
   "cell_type": "code",
   "execution_count": 54,
   "metadata": {
    "collapsed": true
   },
   "outputs": [],
   "source": [
    "f3 = open(path+'/'+files[2], 'r')\n",
    "doc3 = f3.read()"
   ]
  },
  {
   "cell_type": "code",
   "execution_count": 55,
   "metadata": {
    "collapsed": true
   },
   "outputs": [],
   "source": [
    "f4 = open(path+'/'+files[3], 'r')\n",
    "doc4 = f4.read()"
   ]
  },
  {
   "cell_type": "code",
   "execution_count": 56,
   "metadata": {},
   "outputs": [
    {
     "name": "stderr",
     "output_type": "stream",
     "text": [
      "2017-12-03 16:52:05,652 : INFO : adding document #0 to Dictionary(0 unique tokens: [])\n",
      "2017-12-03 16:52:05,661 : INFO : built Dictionary(979 unique tokens: ['edit', 'partow', 'kebriaei', 'univers', 'texa']...) from 289 documents (total 3447 corpus positions)\n"
     ]
    }
   ],
   "source": [
    "doc1 = re.findall(r'<p>(.*?)</p>', str(doc1))\n",
    "doc1 = strip(str(doc1))\n",
    "doc1 = strip_back(doc1)\n",
    "doc1 = strip_names(doc1)\n",
    "text1 = summarize(doc1, ratio=0.05)\n",
    "k1 = keywords(text1)"
   ]
  },
  {
   "cell_type": "code",
   "execution_count": 57,
   "metadata": {},
   "outputs": [
    {
     "data": {
      "text/plain": [
       "5065"
      ]
     },
     "execution_count": 57,
     "metadata": {},
     "output_type": "execute_result"
    }
   ],
   "source": [
    "fo1 = open(\"summary1.txt\", 'w+')\n",
    "fo1.write(text1)"
   ]
  },
  {
   "cell_type": "code",
   "execution_count": 67,
   "metadata": {},
   "outputs": [
    {
     "data": {
      "text/plain": [
       "486"
      ]
     },
     "execution_count": 67,
     "metadata": {},
     "output_type": "execute_result"
    }
   ],
   "source": [
    "ko1 = open('key1.txt', 'w+')\n",
    "ko1.write(k1)"
   ]
  },
  {
   "cell_type": "code",
   "execution_count": 68,
   "metadata": {},
   "outputs": [
    {
     "name": "stderr",
     "output_type": "stream",
     "text": [
      "2017-12-03 16:56:09,664 : INFO : adding document #0 to Dictionary(0 unique tokens: [])\n",
      "2017-12-03 16:56:09,672 : INFO : built Dictionary(607 unique tokens: ['asthma', 'numer', 'etiolog', 'success', 'treatment']...) from 98 documents (total 1292 corpus positions)\n"
     ]
    }
   ],
   "source": [
    "doc2 = re.findall(r'<p>(.*?)</p>', str(doc2))\n",
    "doc2 = strip(str(doc2))\n",
    "doc2 = strip_back(doc2)\n",
    "doc2 = strip_names(doc2)\n",
    "text2 = summarize(doc2, ratio=0.05)\n",
    "k2 = keywords(text2)"
   ]
  },
  {
   "cell_type": "code",
   "execution_count": 69,
   "metadata": {},
   "outputs": [
    {
     "name": "stderr",
     "output_type": "stream",
     "text": [
      "2017-12-03 16:56:47,975 : INFO : adding document #0 to Dictionary(0 unique tokens: [])\n",
      "2017-12-03 16:56:47,992 : INFO : built Dictionary(1799 unique tokens: ['ilesanmi', 'oluwatoyin', 'olatundun', 'clinic', 'psychologist']...) from 377 documents (total 6536 corpus positions)\n"
     ]
    }
   ],
   "source": [
    "doc3 = re.findall(r'<p>(.*?)</p>', str(doc3))\n",
    "doc3 = strip(str(doc3))\n",
    "doc3 = strip_back(doc3)\n",
    "doc3 = strip_names(doc3)\n",
    "text3 = summarize(doc3, ratio=0.05)\n",
    "k3 = keywords(text3)"
   ]
  },
  {
   "cell_type": "code",
   "execution_count": 70,
   "metadata": {},
   "outputs": [
    {
     "name": "stderr",
     "output_type": "stream",
     "text": [
      "2017-12-03 16:57:15,062 : INFO : adding document #0 to Dictionary(0 unique tokens: [])\n",
      "2017-12-03 16:57:15,066 : INFO : built Dictionary(520 unique tokens: ['diagnosi', 'invas', 'fungal', 'infect', 'remain']...) from 54 documents (total 1162 corpus positions)\n"
     ]
    }
   ],
   "source": [
    "doc4 = re.findall(r'<p>(.*?)</p>', str(doc4))\n",
    "doc4 = strip(str(doc4))\n",
    "doc4 = strip_back(doc4)\n",
    "doc4 = strip_names(doc4)\n",
    "text4 = summarize(doc4, ratio=0.05)\n",
    "k4 = keywords(text4)"
   ]
  },
  {
   "cell_type": "code",
   "execution_count": 72,
   "metadata": {},
   "outputs": [
    {
     "data": {
      "text/plain": [
       "206"
      ]
     },
     "execution_count": 72,
     "metadata": {},
     "output_type": "execute_result"
    }
   ],
   "source": [
    "fo2 = open(\"summary2.txt\", 'w+')\n",
    "fo2.write(text2)\n",
    "ko2 = open('key2.txt', 'w+')\n",
    "ko2.write(k2)\n",
    "fo3 = open(\"summary3.txt\", 'w+')\n",
    "fo3.write(text3)\n",
    "ko3 = open('key3.txt', 'w+')\n",
    "ko3.write(k3)\n",
    "fo4 = open(\"summary4.txt\", 'w+')\n",
    "fo4.write(text4)\n",
    "ko4 = open('key4.txt', 'w+')\n",
    "ko4.write(k4)"
   ]
  },
  {
   "cell_type": "code",
   "execution_count": null,
   "metadata": {
    "collapsed": true
   },
   "outputs": [],
   "source": []
  }
 ],
 "metadata": {
  "kernelspec": {
   "display_name": "Python 3",
   "language": "python",
   "name": "python3"
  },
  "language_info": {
   "codemirror_mode": {
    "name": "ipython",
    "version": 3
   },
   "file_extension": ".py",
   "mimetype": "text/x-python",
   "name": "python",
   "nbconvert_exporter": "python",
   "pygments_lexer": "ipython3",
   "version": "3.6.1"
  }
 },
 "nbformat": 4,
 "nbformat_minor": 2
}
